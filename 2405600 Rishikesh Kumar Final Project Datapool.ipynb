{
 "cells": [
  {
   "cell_type": "markdown",
   "metadata": {},
   "source": [
    "# <u> Final Project - Datapool </u>"
   ]
  },
  {
   "cell_type": "markdown",
   "metadata": {},
   "source": [
    "## Car Sales"
   ]
  },
  {
   "cell_type": "code",
   "execution_count": 3,
   "metadata": {},
   "outputs": [],
   "source": [
    "import pandas as p"
   ]
  },
  {
   "cell_type": "code",
   "execution_count": 4,
   "metadata": {},
   "outputs": [],
   "source": [
    "df = p.read_csv('Car Sales.xlsx - car_data.csv')"
   ]
  },
  {
   "cell_type": "code",
   "execution_count": 5,
   "metadata": {},
   "outputs": [
    {
     "name": "stdout",
     "output_type": "stream",
     "text": [
      "             Car_id        Date Customer Name  Gender  Annual Income  \\\n",
      "0      C_CND_000001    1/2/2022     Geraldine    Male          13500   \n",
      "1      C_CND_000002    1/2/2022           Gia    Male        1480000   \n",
      "2      C_CND_000003    1/2/2022        Gianna    Male        1035000   \n",
      "3      C_CND_000004    1/2/2022       Giselle    Male          13500   \n",
      "4      C_CND_000005    1/2/2022         Grace    Male        1465000   \n",
      "...             ...         ...           ...     ...            ...   \n",
      "23901  C_CND_023902  12/31/2023        Martin    Male          13500   \n",
      "23902  C_CND_023903  12/31/2023         Jimmy  Female         900000   \n",
      "23903  C_CND_023904  12/31/2023          Emma    Male         705000   \n",
      "23904  C_CND_023905  12/31/2023      Victoire    Male          13500   \n",
      "23905  C_CND_023906  12/31/2023       Donovan    Male        1225000   \n",
      "\n",
      "                               Dealer_Name    Company       Model  \\\n",
      "0      Buddy Storbeck's Diesel Service Inc       Ford  Expedition   \n",
      "1                         C & M Motors Inc      Dodge     Durango   \n",
      "2                              Capitol KIA   Cadillac    Eldorado   \n",
      "3                   Chrysler of Tri-Cities     Toyota      Celica   \n",
      "4                        Chrysler Plymouth      Acura          TL   \n",
      "...                                    ...        ...         ...   \n",
      "23901                     C & M Motors Inc   Plymouth     Voyager   \n",
      "23902       Ryder Truck Rental and Leasing  Chevrolet       Prizm   \n",
      "23903               Chrysler of Tri-Cities        BMW        328i   \n",
      "23904                    Chrysler Plymouth  Chevrolet       Metro   \n",
      "23905                      Pars Auto Sales      Lexus       ES300   \n",
      "\n",
      "                          Engine Transmission       Color  Price ($)  \\\n",
      "0      DoubleÂ Overhead Camshaft         Auto       Black      26000   \n",
      "1      DoubleÂ Overhead Camshaft         Auto       Black      19000   \n",
      "2              Overhead Camshaft       Manual         Red      31500   \n",
      "3              Overhead Camshaft       Manual  Pale White      14000   \n",
      "4      DoubleÂ Overhead Camshaft         Auto         Red      24500   \n",
      "...                          ...          ...         ...        ...   \n",
      "23901          Overhead Camshaft       Manual         Red      12000   \n",
      "23902  DoubleÂ Overhead Camshaft         Auto       Black      16000   \n",
      "23903          Overhead Camshaft       Manual         Red      21000   \n",
      "23904  DoubleÂ Overhead Camshaft         Auto       Black      31000   \n",
      "23905  DoubleÂ Overhead Camshaft         Auto  Pale White      27500   \n",
      "\n",
      "       Dealer_No  Body Style    Phone Dealer_Region  \n",
      "0      06457-3834        SUV  8264678    Middletown  \n",
      "1      60504-7114        SUV  6848189        Aurora  \n",
      "2      38701-8047  Passenger  7298798    Greenville  \n",
      "3      99301-3882        SUV  6257557         Pasco  \n",
      "4      53546-9427  Hatchback  7081483    Janesville  \n",
      "...           ...        ...      ...           ...  \n",
      "23901  60504-7114  Passenger  8583598         Pasco  \n",
      "23902  06457-3834    Hardtop  7914229    Middletown  \n",
      "23903  99301-3882      Sedan  7659127    Scottsdale  \n",
      "23904  53546-9427  Passenger  6030764        Austin  \n",
      "23905  38701-8047    Hardtop  7020564    Middletown  \n",
      "\n",
      "[23906 rows x 16 columns]\n"
     ]
    }
   ],
   "source": [
    "print (df)"
   ]
  },
  {
   "cell_type": "markdown",
   "metadata": {},
   "source": [
    "## Describe the components of the dataset"
   ]
  },
  {
   "cell_type": "code",
   "execution_count": 6,
   "metadata": {},
   "outputs": [
    {
     "name": "stdout",
     "output_type": "stream",
     "text": [
      "       Annual Income     Price ($)         Phone\n",
      "count   2.390600e+04  23906.000000  2.390600e+04\n",
      "mean    8.308403e+05  28090.247846  7.497741e+06\n",
      "std     7.200064e+05  14788.687608  8.674920e+05\n",
      "min     1.008000e+04   1200.000000  6.000101e+06\n",
      "25%     3.860000e+05  18001.000000  6.746495e+06\n",
      "50%     7.350000e+05  23000.000000  7.496198e+06\n",
      "75%     1.175750e+06  34000.000000  8.248146e+06\n",
      "max     1.120000e+07  85800.000000  8.999579e+06\n"
     ]
    }
   ],
   "source": [
    "print(df.describe())"
   ]
  },
  {
   "cell_type": "markdown",
   "metadata": {},
   "source": [
    "## Which model was sold at the highest price in the sales data?"
   ]
  },
  {
   "cell_type": "code",
   "execution_count": 7,
   "metadata": {},
   "outputs": [
    {
     "name": "stdout",
     "output_type": "stream",
     "text": [
      "Model        Xterra\n",
      "Company       Volvo\n",
      "Price ($)     85800\n",
      "dtype: object\n"
     ]
    }
   ],
   "source": [
    "print(df[['Model','Company','Price ($)']].max())"
   ]
  },
  {
   "cell_type": "markdown",
   "metadata": {},
   "source": [
    "## Which model was sold at the lowest price?"
   ]
  },
  {
   "cell_type": "code",
   "execution_count": 8,
   "metadata": {},
   "outputs": [
    {
     "name": "stdout",
     "output_type": "stream",
     "text": [
      "Model        3-Sep\n",
      "Company      Acura\n",
      "Price ($)     1200\n",
      "dtype: object\n"
     ]
    }
   ],
   "source": [
    "print(df[['Model','Company','Price ($)']].min())"
   ]
  },
  {
   "cell_type": "markdown",
   "metadata": {},
   "source": [
    "## How many customers bought car through Tri-State Mack Inc?"
   ]
  },
  {
   "cell_type": "code",
   "execution_count": 9,
   "metadata": {},
   "outputs": [
    {
     "name": "stdout",
     "output_type": "stream",
     "text": [
      "      Customer Name     Company       Model\n",
      "25          Florian       Dodge       Viper\n",
      "33             Suri       Honda       Civic\n",
      "41            Hersh       Volvo         S80\n",
      "80            Aaron      Nissan  Pathfinder\n",
      "88           Alizee         BMW        328i\n",
      "...             ...         ...         ...\n",
      "23840        Sophia  Volkswagen      Beetle\n",
      "23870     Charlotte      Jaguar      S-Type\n",
      "23877      Giovanni       Acura          TL\n",
      "23883        Vivian       Honda     Odyssey\n",
      "23893         Siena         BMW        528i\n",
      "\n",
      "[1249 rows x 3 columns]\n"
     ]
    }
   ],
   "source": [
    "print(df.query('Dealer_Name==\"Tri-State Mack Inc\"')[['Customer Name','Company','Model']])"
   ]
  },
  {
   "cell_type": "markdown",
   "metadata": {},
   "source": [
    "## How many male customers are there?"
   ]
  },
  {
   "cell_type": "code",
   "execution_count": 10,
   "metadata": {},
   "outputs": [
    {
     "name": "stdout",
     "output_type": "stream",
     "text": [
      "      Customer Name    Company        Model\n",
      "0         Geraldine       Ford   Expedition\n",
      "1               Gia      Dodge      Durango\n",
      "2            Gianna   Cadillac     Eldorado\n",
      "3           Giselle     Toyota       Celica\n",
      "4             Grace      Acura           TL\n",
      "...             ...        ...          ...\n",
      "23899          Yuna      Buick  Park Avenue\n",
      "23901        Martin   Plymouth      Voyager\n",
      "23903          Emma        BMW         328i\n",
      "23904      Victoire  Chevrolet        Metro\n",
      "23905       Donovan      Lexus        ES300\n",
      "\n",
      "[18798 rows x 3 columns]\n"
     ]
    }
   ],
   "source": [
    "print(df.query('Gender==\"Male\"')[['Customer Name','Company','Model']])"
   ]
  },
  {
   "cell_type": "markdown",
   "metadata": {},
   "source": [
    "## How many female customers are there?"
   ]
  },
  {
   "cell_type": "code",
   "execution_count": 11,
   "metadata": {},
   "outputs": [
    {
     "name": "stdout",
     "output_type": "stream",
     "text": [
      "      Customer Name    Company     Model\n",
      "9           Grayson       Ford    Escort\n",
      "16              Zoe    Hyundai    Accent\n",
      "17             Zoey   Cadillac  Eldorado\n",
      "26        Cassandre      Buick     Regal\n",
      "39            Harry     Nissan    Sentra\n",
      "...             ...        ...       ...\n",
      "23883        Vivian      Honda   Odyssey\n",
      "23888      Ludivine     Toyota      RAV4\n",
      "23893         Siena        BMW      528i\n",
      "23900        Nathan       Ford   Contour\n",
      "23902         Jimmy  Chevrolet     Prizm\n",
      "\n",
      "[5108 rows x 3 columns]\n"
     ]
    }
   ],
   "source": [
    "print(df.query('Gender==\"Female\"')[['Customer Name','Company','Model']])"
   ]
  },
  {
   "cell_type": "markdown",
   "metadata": {},
   "source": [
    "## Show the annual income wrt company"
   ]
  },
  {
   "cell_type": "code",
   "execution_count": 12,
   "metadata": {},
   "outputs": [],
   "source": [
    "import matplotlib.pyplot as plt"
   ]
  },
  {
   "cell_type": "code",
   "execution_count": 15,
   "metadata": {},
   "outputs": [
    {
     "data": {
      "text/plain": [
       "([<matplotlib.patches.Wedge at 0x1e543c7bd70>,\n",
       "  <matplotlib.patches.Wedge at 0x1e566b2e300>,\n",
       "  <matplotlib.patches.Wedge at 0x1e543c7bec0>,\n",
       "  <matplotlib.patches.Wedge at 0x1e543c7bda0>,\n",
       "  <matplotlib.patches.Wedge at 0x1e543c7bf80>,\n",
       "  <matplotlib.patches.Wedge at 0x1e543c79160>,\n",
       "  <matplotlib.patches.Wedge at 0x1e543c79130>,\n",
       "  <matplotlib.patches.Wedge at 0x1e543c7adb0>,\n",
       "  <matplotlib.patches.Wedge at 0x1e543c798e0>,\n",
       "  <matplotlib.patches.Wedge at 0x1e543c7a3f0>],\n",
       " [Text(1.0999814304204434, 0.006391614052429586, 'Ford'),\n",
       "  Text(0.8766006636316563, 0.6645082968033882, 'Dodge'),\n",
       "  Text(-0.17560758460987583, 1.0858922489029403, 'Cadillac'),\n",
       "  Text(-0.6316125894291662, 0.9005917703791123, 'Toyota'),\n",
       "  Text(-1.0431822340745032, 0.34895676882864574, 'Acura'),\n",
       "  Text(-0.8597404235314723, -0.6861824860384627, 'Mitsubishi'),\n",
       "  Text(0.1723349485120075, -1.0864164328292185, 'Toyota'),\n",
       "  Text(0.8277062557323059, -0.724501452187369, 'Mitsubishi'),\n",
       "  Text(1.0285500516614807, -0.38998050108584376, 'Chevrolet'),\n",
       "  Text(1.0999814306004454, -0.006391583074472589, 'Ford')])"
      ]
     },
     "execution_count": 15,
     "metadata": {},
     "output_type": "execute_result"
    },
    {
     "data": {
      "image/png": "[encoded data removed]",
      "text/plain": [
       "<Figure size 640x480 with 1 Axes>"
      ]
     },
     "metadata": {},
     "output_type": "display_data"
    }
   ],
   "source": [
    "plt.pie(df['Annual Income'].head(10), labels=df['Company'].head(10))"
   ]
  },
  {
   "cell_type": "code",
   "execution_count": null,
   "metadata": {},
   "outputs": [],
   "source": []
  }
 ],
 "metadata": {
  "kernelspec": {
   "display_name": "Python 3",
   "language": "python",
   "name": "python3"
  },
  "language_info": {
   "codemirror_mode": {
    "name": "ipython",
    "version": 3
   },
   "file_extension": ".py",
   "mimetype": "text/x-python",
   "name": "python",
   "nbconvert_exporter": "python",
   "pygments_lexer": "ipython3",
   "version": "3.12.5"
  }
 },
 "nbformat": 4,
 "nbformat_minor": 2
}
